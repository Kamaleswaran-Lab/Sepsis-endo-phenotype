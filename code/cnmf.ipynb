{
 "cells": [
  {
   "cell_type": "code",
   "execution_count": null,
   "id": "0edb6ab4-1eed-4aa0-b1c8-283e58740a1b",
   "metadata": {},
   "outputs": [],
   "source": [
    "import scanpy as sc\n",
    "import pandas as pd\n",
    "\n",
    "import os\n",
    "import pandas as pd\n",
    "import anndata as ad\n",
    "import numpy as np\n",
    "from scipy.io import mmread\n",
    "import scipy.sparse as sp\n",
    "import matplotlib.pyplot as plt\n",
    "from IPython.display import Image\n",
    "import scanpy as sc\n",
    "from cnmf import cNMF, Preprocess\n",
    "\n",
    "from multiprocessing import Process\n",
    "\n",
    "import seaborn as sns\n",
    "\n",
    "from cnmf import cNMF"
   ]
  },
  {
   "cell_type": "markdown",
   "id": "df3a794e-372a-46fd-82e0-90bea385f0d7",
   "metadata": {},
   "source": [
    "find the best component number"
   ]
  },
  {
   "cell_type": "code",
   "execution_count": null,
   "id": "397a4104-6cd7-49ab-9f3e-fae90e94885b",
   "metadata": {},
   "outputs": [],
   "source": [
    "adata = sc.read_h5ad(\"./all_integrated_harmony.h5ad\")"
   ]
  },
  {
   "cell_type": "code",
   "execution_count": null,
   "id": "6d10b351-e1a5-4bf3-8f56-d0331653b4f9",
   "metadata": {},
   "outputs": [],
   "source": [
    "p = Preprocess(random_seed=14)\n",
    "(adata_c, adata_tp10k, hvgs) = p.preprocess_for_cnmf(adata, harmony_vars='dataset', n_top_rna_genes = 2000,\n",
    "                                                     max_scaled_thresh = None, quantile_thresh = .9999, makeplots=True,\n",
    "                                                    save_output_base='./all_integrated/')\n"
   ]
  },
  {
   "cell_type": "code",
   "execution_count": null,
   "id": "bc008f96-7fa7-46ea-9c44-5b6134e502f8",
   "metadata": {},
   "outputs": [],
   "source": [
    "cnmf_obj = cNMF(output_dir=\"./all_integrated\", name=\"all_integrated_cNMF\")\n",
    "cnmf_obj.prepare(counts_fn=\"./all_integrated/all_integrated.Corrected.HVG.Varnorm.h5ad\",\n",
    "                           tpm_fn='./all_integrated/all_integrated.TP10K.h5ad',\n",
    "                           genes_file='./all_integrated/all_integrated.Corrected.HVGs.txt',\n",
    "                           components=np.arange(5,40), n_iter=20, seed=14, num_highvar_genes=2000)"
   ]
  },
  {
   "cell_type": "code",
   "execution_count": null,
   "id": "18ce3dc0-b3a9-435e-b417-2823ba6a5b5f",
   "metadata": {},
   "outputs": [],
   "source": [
    "cnmf_obj.factorize(worker_i=0, total_workers=1)\n",
    "cnmf_obj.combine()\n",
    "cnmf_obj.k_selection_plot() "
   ]
  },
  {
   "cell_type": "markdown",
   "id": "e3aa246a-61be-4c80-b72d-fe89c69804dd",
   "metadata": {},
   "source": [
    "use the best component number"
   ]
  },
  {
   "cell_type": "code",
   "execution_count": null,
   "id": "19bd3e11-b08a-48f8-bc72-b3c2652051b9",
   "metadata": {},
   "outputs": [],
   "source": [
    "cnmf_obj = cNMF(output_dir=\"./all_integrated\", name=\"all_integrated_cNMF\")\n",
    "cnmf_obj.prepare(counts_fn=\"./all_integrated/all_integrated.Corrected.HVG.Varnorm.h5ad\",\n",
    "                           tpm_fn='./all_integrated/all_integrated.TP10K.h5ad',\n",
    "                           genes_file='./all_integrated/all_integrated.Corrected.HVGs.txt',\n",
    "                           components=15, n_iter=20, seed=14, num_highvar_genes=2000)"
   ]
  },
  {
   "cell_type": "code",
   "execution_count": null,
   "id": "17e4afa0-011b-4930-a89d-71da46866d28",
   "metadata": {},
   "outputs": [],
   "source": [
    "def run_worker(worker_i, total_workers):\n",
    "    cnmf_obj = cNMF(output_dir=\"./all_integrated\", name=\"all_integrated_cNMF\")\n",
    "    cnmf_obj.factorize(worker_i=worker_i, total_workers=total_workers)\n",
    "total_workers = 8\n",
    "processes = []\n",
    "for i in range(total_workers):\n",
    "    p = Process(target=run_worker, args=(i, total_workers))\n",
    "    p.start()\n",
    "    processes.append(p)\n",
    "\n",
    "for p in processes:\n",
    "    p.join()\n",
    "\n",
    "cnmf_obj = cNMF(output_dir=\"./all_integrated\", name=\"all_integrated_cNMF\")\n",
    "cnmf_obj.combine()"
   ]
  },
  {
   "cell_type": "code",
   "execution_count": null,
   "id": "b4d33b73-3361-4c13-8873-f4c7b9ff54ea",
   "metadata": {},
   "outputs": [],
   "source": [
    "cnmf_obj.consensus(k=15, density_threshold=0.25)\n",
    "usage, spectra_scores, spectra_tpm, top_genes = cnmf_obj.load_results(K=15, density_threshold=0.25)"
   ]
  },
  {
   "cell_type": "code",
   "execution_count": null,
   "id": "9fe5a0f4-c427-41b0-b6a1-cad698589f06",
   "metadata": {},
   "outputs": [],
   "source": [
    "top_genes.to_csv('./cnmf_top_genes.csv', index=False)"
   ]
  },
  {
   "cell_type": "markdown",
   "id": "64348058-631a-41d3-a034-937c183c820e",
   "metadata": {},
   "source": [
    "visulization"
   ]
  },
  {
   "cell_type": "code",
   "execution_count": null,
   "id": "ffd79700-f9d0-404c-a732-9d8233e92d18",
   "metadata": {},
   "outputs": [],
   "source": [
    "def classify_components(\n",
    "    adata,\n",
    "    usage,\n",
    "    top_genes,\n",
    "    gene_list_state_markers=set(),\n",
    "    ftest_thresh=1e-10\n",
    "):\n",
    "    from scipy.stats import f_oneway\n",
    "    import pandas as pd\n",
    "\n",
    "    n_components = usage.shape[1]\n",
    "    results = []\n",
    "\n",
    "    component_ids = top_genes.columns\n",
    "\n",
    "    for idx, comp_id in enumerate(component_ids):\n",
    "        adata.obs[f'cNMF_{comp_id}'] = usage.iloc[:, idx]\n",
    "        usage_i = adata.obs[f'cNMF_{comp_id}']\n",
    "\n",
    "        # 1. F-test\n",
    "        groups = [\n",
    "            usage_i[adata.obs[\"celltype\"] == ct].values\n",
    "            for ct in adata.obs[\"celltype\"].unique()\n",
    "        ]\n",
    "        f_p = f_oneway(*groups).pvalue if len(groups) > 1 else 1.0\n",
    "\n",
    "        top_genes_i = set(top_genes[comp_id].dropna().values)\n",
    "        state_ratio = len(top_genes_i & gene_list_state_markers) / len(top_genes_i)\n",
    "\n",
    "        if f_p < ftest_thresh:\n",
    "            label = \"Celltype-specific\"\n",
    "        elif state_ratio > 0.1:\n",
    "            label = \"State\"\n",
    "        else:\n",
    "            label = \"Other\"\n",
    "\n",
    "        results.append({\n",
    "            \"Component\": comp_id,\n",
    "            \"Label\": label,\n",
    "            \"F-test_p\": f_p,\n",
    "            \"StateGeneRatio\": state_ratio\n",
    "        })\n",
    "\n",
    "    df_result = pd.DataFrame(results)\n",
    "    return df_result"
   ]
  },
  {
   "cell_type": "code",
   "execution_count": null,
   "id": "94ad2415-39c9-4a85-aec0-fe3b75b90a27",
   "metadata": {},
   "outputs": [],
   "source": [
    "df_result = classify_components(adata_all, usage, top_genes)"
   ]
  },
  {
   "cell_type": "code",
   "execution_count": null,
   "id": "98611498-c831-4e84-8ede-2059eaa7d17e",
   "metadata": {},
   "outputs": [],
   "source": [
    "sc._settings.settings._vector_friendly=True\n",
    "n_rows = 3\n",
    "n_cols = 3\n",
    "\n",
    "\n",
    "for page in range(0, 15, 9): \n",
    "    fig, axes = plt.subplots(n_rows, n_cols, figsize=(15, 15))\n",
    "    axes = axes.flatten()  \n",
    "\n",
    "    for i, comp_id in enumerate(range(page, min(page + 9, 15))): \n",
    "        ax = axes[i]\n",
    "        # Plot the UMAP for each component on the corresponding subplot\n",
    "        sc.pl.umap(\n",
    "            adata, \n",
    "            color=f'cNMF_{comp_id+1}', \n",
    "            ax=ax,         \n",
    "            show=False,   \n",
    "            title=f'Component {comp_id+1}'\n",
    "        )\n",
    "\n",
    "    # Adjust layout and save to the current page as a PDF\n",
    "    plt.tight_layout()\n",
    "    plt.savefig(f\"cNMF_{page//9 + 1}.svg\", bbox_inches=\"tight\", dpi=600)\n",
    "    plt.close()"
   ]
  }
 ],
 "metadata": {
  "kernelspec": {
   "display_name": "Python 3",
   "language": "python",
   "name": "python3"
  },
  "language_info": {
   "codemirror_mode": {
    "name": "ipython",
    "version": 3
   },
   "file_extension": ".py",
   "mimetype": "text/x-python",
   "name": "python",
   "nbconvert_exporter": "python",
   "pygments_lexer": "ipython3",
   "version": "3.8.12"
  }
 },
 "nbformat": 4,
 "nbformat_minor": 5
}
